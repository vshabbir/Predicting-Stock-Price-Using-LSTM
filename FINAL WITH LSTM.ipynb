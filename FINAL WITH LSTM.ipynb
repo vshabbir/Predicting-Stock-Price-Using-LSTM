{
 "cells": [
  {
   "cell_type": "code",
   "execution_count": 1,
   "metadata": {},
   "outputs": [],
   "source": [
    "# import required libraries\n",
    "import pandas as pd\n",
    "import numpy as np\n",
    "import matplotlib.pyplot as plt\n",
    "from datetime import datetime,timedelta\n",
    "from pandas.plotting import register_matplotlib_converters\n",
    "register_matplotlib_converters()\n",
    "# no necessary when using in some editor\n",
    "%matplotlib inline"
   ]
  },
  {
   "cell_type": "code",
   "execution_count": 2,
   "metadata": {},
   "outputs": [],
   "source": [
    "# set the start days and no of days to be predicted\n",
    "start = 60\n",
    "future_days = 965"
   ]
  },
  {
   "cell_type": "code",
   "execution_count": 3,
   "metadata": {},
   "outputs": [],
   "source": [
    "# this function gets the dates ranging from a specific start to end days\n",
    "def get_future_days_dates():\n",
    "    last_date = new_data.Date[-1:].values[0]\n",
    "    date = datetime.strptime(last_date, \"%Y-%m-%d\")\n",
    "    modified_date = date + timedelta(days=1)\n",
    "    start_from = modified_date.date()\n",
    "    datelist = pd.date_range(start_from, periods=future_days).tolist()\n",
    "    \n",
    "    return datelist"
   ]
  },
  {
   "cell_type": "code",
   "execution_count": 4,
   "metadata": {},
   "outputs": [],
   "source": [
    "# process and map the predicted prices along with the date\n",
    "def process_predicted_data():\n",
    "    predictions = pd.DataFrame(index=range(0,len(closing_price)),columns=['Date','Predictions'])\n",
    "    for i in range(0,len(predictions)):\n",
    "        predictions['Date'][i] = datelist[i]\n",
    "    \n",
    "    predictions['Predictions'] = closing_price\n",
    "    predictions.index = pd.to_datetime(predictions.Date,format='%Y-%m-%d')\n",
    "    predictions.drop('Date',axis=1,inplace=True)\n",
    "    return predictions"
   ]
  },
  {
   "cell_type": "code",
   "execution_count": 5,
   "metadata": {},
   "outputs": [],
   "source": [
    "# setting figure size\n",
    "from matplotlib.pylab import rcParams\n",
    "rcParams['figure.figsize'] = 20,10"
   ]
  },
  {
   "cell_type": "code",
   "execution_count": 6,
   "metadata": {},
   "outputs": [],
   "source": [
    "# read data csv\n",
    "new_data = pd.read_csv('APPL.csv',usecols=['Date','Close'])"
   ]
  },
  {
   "cell_type": "code",
   "execution_count": 7,
   "metadata": {},
   "outputs": [],
   "source": [
    "# get the datelist\n",
    "datelist = get_future_days_dates()"
   ]
  },
  {
   "cell_type": "code",
   "execution_count": 8,
   "metadata": {},
   "outputs": [
    {
     "name": "stderr",
     "output_type": "stream",
     "text": [
      "Using TensorFlow backend.\n"
     ]
    }
   ],
   "source": [
    "# importing required libraries\n",
    "from sklearn.preprocessing import MinMaxScaler\n",
    "from keras.models import Sequential\n",
    "from keras.layers import Dense,Dropout,LSTM"
   ]
  },
  {
   "cell_type": "code",
   "execution_count": 9,
   "metadata": {},
   "outputs": [],
   "source": [
    "# setting index\n",
    "new_data.index = pd.to_datetime(new_data.Date,format='%Y-%m-%d')\n",
    "new_data.drop('Date',axis=1,inplace=True)"
   ]
  },
  {
   "cell_type": "code",
   "execution_count": 10,
   "metadata": {},
   "outputs": [],
   "source": [
    "# creating train and test set\n",
    "\n",
    "# only use the values i.e headers are excluded\n",
    "dataset = new_data.values\n",
    "# assign the entire dataset for training as we are going to predict future value\n",
    "train = dataset[0:len(dataset),:]"
   ]
  },
  {
   "cell_type": "code",
   "execution_count": 11,
   "metadata": {},
   "outputs": [],
   "source": [
    "# converting dataset into x_train and y_train\n",
    "\n",
    "# scale the data between values 0 and 1 to make it easier for your model to train on\n",
    "scaler = MinMaxScaler(feature_range=(0,1))\n",
    "scaled_data = scaler.fit_transform(dataset)"
   ]
  },
  {
   "cell_type": "code",
   "execution_count": 13,
   "metadata": {},
   "outputs": [],
   "source": [
    "# define x_train and y_train\n",
    "x_train,y_train = [],[]\n",
    "# divide train data in equal set of columns for training\n",
    "# here we have divided x_train into 60 columns each row\n",
    "# this is important as the model wont accept inconsistent columns\n",
    "# y_train consists of single column for each row\n",
    "for i in range(start,len(train)):\n",
    "    x_train.append(scaled_data[i-start:i,0])\n",
    "    y_train.append(scaled_data[i,0])\n",
    "    \n",
    "# convert x_train and y_train to numpy array\n",
    "x_train, y_train = np.array(x_train), np.array(y_train)\n",
    "\n",
    "# convert x_train into 3D array\n",
    "x_train = np.reshape(x_train, (x_train.shape[0],x_train.shape[1],1))"
   ]
  },
  {
   "cell_type": "code",
   "execution_count": 14,
   "metadata": {},
   "outputs": [
    {
     "name": "stdout",
     "output_type": "stream",
     "text": [
      "WARNING:tensorflow:From /home/osp194/anaconda2/lib/python2.7/site-packages/tensorflow/python/framework/op_def_library.py:263: colocate_with (from tensorflow.python.framework.ops) is deprecated and will be removed in a future version.\n",
      "Instructions for updating:\n",
      "Colocations handled automatically by placer.\n"
     ]
    }
   ],
   "source": [
    "# create and fit the LSTM network\n",
    "\n",
    "# initialize the sequential model\n",
    "model = Sequential()\n",
    "# add layers to the model,here we are adding LSTM and Dense layers to the model\n",
    "# this layers will be used for prediction of future prices\n",
    "model.add(LSTM(units=100, return_sequences=True, input_shape=(x_train.shape[1],1)))\n",
    "model.add(LSTM(units=100))\n",
    "model.add(Dense(1))"
   ]
  },
  {
   "cell_type": "code",
   "execution_count": 16,
   "metadata": {},
   "outputs": [
    {
     "name": "stdout",
     "output_type": "stream",
     "text": [
      "WARNING:tensorflow:From /home/osp194/anaconda2/lib/python2.7/site-packages/tensorflow/python/ops/math_ops.py:3066: to_int32 (from tensorflow.python.ops.math_ops) is deprecated and will be removed in a future version.\n",
      "Instructions for updating:\n",
      "Use tf.cast instead.\n",
      "Epoch 1/1\n",
      " - 32s - loss: 0.0188 - acc: 4.0551e-04\n"
     ]
    },
    {
     "data": {
      "text/plain": [
       "<keras.callbacks.History at 0x7ff2716c2c50>"
      ]
     },
     "execution_count": 16,
     "metadata": {},
     "output_type": "execute_result"
    }
   ],
   "source": [
    "# compile the model using loss calculator as rms and optimizer adam\n",
    "model.compile(loss='mean_squared_error', optimizer='adam',metrics=['accuracy'])\n",
    "# fit the training data to model\n",
    "model.fit(x_train, y_train, epochs=1, batch_size=100, verbose=2)"
   ]
  },
  {
   "cell_type": "code",
   "execution_count": 17,
   "metadata": {},
   "outputs": [],
   "source": [
    "#predicting future values, using past n days data from the train data \n",
    "# in our case we are using past 60 days\n",
    "to_predict = future_days\n",
    "predict_using = start\n",
    "inputs = new_data[(len(new_data) - to_predict) - predict_using:].values\n",
    "inputs = inputs.reshape(-1,1)\n",
    "inputs  = scaler.transform(inputs)\n",
    "\n",
    "X_test = []\n",
    "for i in range(predict_using,inputs.shape[0]):\n",
    "    X_test.append(inputs[i-predict_using:i,0])\n",
    "X_test = np.array(X_test)"
   ]
  },
  {
   "cell_type": "code",
   "execution_count": 22,
   "metadata": {},
   "outputs": [
    {
     "name": "stdout",
     "output_type": "stream",
     "text": [
      "965/965 [==============================] - 2s 2ms/step\n"
     ]
    }
   ],
   "source": [
    "# reshape X_test to 3D array\n",
    "X_test = np.reshape(X_test, (X_test.shape[0],X_test.shape[1],1))\n",
    "# predict prices for n days\n",
    "# in our case it is 246 days\n",
    "closing_price = model.predict(X_test,verbose=1)\n",
    "# reverse the prices which we transformed previously for model training to actual prices\n",
    "closing_price = scaler.inverse_transform(closing_price)"
   ]
  },
  {
   "cell_type": "code",
   "execution_count": 24,
   "metadata": {},
   "outputs": [],
   "source": [
    "# map the dates with prices\n",
    "prd = process_predicted_data()"
   ]
  },
  {
   "cell_type": "code",
   "execution_count": 34,
   "metadata": {},
   "outputs": [
    {
     "data": {
      "text/plain": [
       "<matplotlib.legend.Legend at 0x7ff25421c590>"
      ]
     },
     "execution_count": 34,
     "metadata": {},
     "output_type": "execute_result"
    },
    {
     "data": {
      "image/png": "[encoded data removed]",
      "text/plain": [
       "<Figure size 1440x720 with 1 Axes>"
      ]
     },
     "metadata": {
      "needs_background": "light"
     },
     "output_type": "display_data"
    }
   ],
   "source": [
    "# lets plot the prediction\n",
    "train = new_data[:]\n",
    "plt.plot(train,label='Closing Price')\n",
    "plt.plot(prd,label='Predicted Closing Price')\n",
    "plt.legend()"
   ]
  },
  {
   "cell_type": "code",
   "execution_count": null,
   "metadata": {},
   "outputs": [],
   "source": []
  }
 ],
 "metadata": {
  "kernelspec": {
   "display_name": "Python 2",
   "language": "python",
   "name": "python2"
  },
  "language_info": {
   "codemirror_mode": {
    "name": "ipython",
    "version": 2
   },
   "file_extension": ".py",
   "mimetype": "text/x-python",
   "name": "python",
   "nbconvert_exporter": "python",
   "pygments_lexer": "ipython2",
   "version": "2.7.15"
  }
 },
 "nbformat": 4,
 "nbformat_minor": 2
}
